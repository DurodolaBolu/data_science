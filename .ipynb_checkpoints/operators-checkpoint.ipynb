{
 "cells": [
  {
   "cell_type": "markdown",
   "metadata": {},
   "source": [
    "## Operators"
   ]
  },
  {
   "cell_type": "markdown",
   "metadata": {},
   "source": [
    "- Arithmetic operators\n",
    "- Assignment operators\n",
    "- Comparison operators\n",
    "- Logical operators\n",
    "- Identity operators\n",
    "- Membership operators\n",
    "- Bitwise operators"
   ]
  },
  {
   "cell_type": "markdown",
   "metadata": {},
   "source": [
    "### Arithmetic Operators"
   ]
  },
  {
   "cell_type": "code",
   "execution_count": 12,
   "metadata": {},
   "outputs": [
    {
     "name": "stdout",
     "output_type": "stream",
     "text": [
      "-12.0\n",
      "-16.0\n"
     ]
    }
   ],
   "source": [
    "#These are normal mathematical operations\n",
    "#Examples\n",
    "a = 34\n",
    "b = 56\n",
    "c = a + b\n",
    "d = a - b\n",
    "e = a / b\n",
    "f = a * b\n",
    "#print(c, d, e, f)\n",
    "#Other operations like -, / , and *.\n",
    "#%  Modulus--- Remainder Concept\n",
    "#** Exponentiation--- Raise to Power Concept\n",
    "#// Floor division can be performed on them--- Whole Number division concept\n",
    "first_digit= 5\n",
    "second_digit = 2\n",
    "rem = 7 % 5\n",
    "#print(rem)\n",
    "\n",
    "third_digit = second_digit ** first_digit\n",
    "#print(third_digit)\n",
    "\n",
    "fourth_digit = 5 // 2\n",
    "#print(fourth_digit)\n",
    "\n",
    " #*******Example***********\n",
    "    \n",
    "    \n",
    "import math\n",
    "a = 4\n",
    "b = 7\n",
    "c = 3\n",
    "#PEMDAS\n",
    "first_val = (-b + math.sqrt(b**2 - (4*a*c)))/ 2*a\n",
    "second_val = (-b - math.sqrt(b**2 - (4*a*c)))/ 2*a\n",
    "\n",
    "print(first_val)\n",
    "print(second_val)"
   ]
  },
  {
   "cell_type": "markdown",
   "metadata": {},
   "source": [
    "### Assignment operators"
   ]
  },
  {
   "cell_type": "code",
   "execution_count": 13,
   "metadata": {},
   "outputs": [
    {
     "name": "stdout",
     "output_type": "stream",
     "text": [
      "3.0\n",
      "6.0\n",
      "2.0\n"
     ]
    }
   ],
   "source": [
    "b = 6/2\n",
    "\n",
    "#other smart operations include\n",
    "print(b)\n",
    "#var + operator +operator = var\n",
    "\n",
    "b += 3\n",
    "#Same as b = b + 3\n",
    "print(b)\n",
    "\n",
    "b /=3\n",
    "#Same as b = b/3\n",
    "print(b)"
   ]
  },
  {
   "cell_type": "markdown",
   "metadata": {},
   "source": [
    "### Comparison Operators"
   ]
  },
  {
   "cell_type": "code",
   "execution_count": 19,
   "metadata": {},
   "outputs": [],
   "source": [
    "# There are times when we will need to compare different values , we use this type of operators then\n",
    "# ==(Equal to), !=(Not equal to), >(Greater than),\n",
    "#<(Lessthan), >=(Greater than or equal to, <=(Less than or equal to) \n",
    "a = 4\n",
    "b = 4\n",
    "\n",
    "if a!=b:\n",
    "    print(\"yeah yeah\")"
   ]
  },
  {
   "cell_type": "markdown",
   "metadata": {},
   "source": [
    "###  Logical Operators"
   ]
  },
  {
   "cell_type": "code",
   "execution_count": 27,
   "metadata": {},
   "outputs": [
    {
     "name": "stdout",
     "output_type": "stream",
     "text": [
      "Yeah Yeah\n",
      "It is not string\n"
     ]
    }
   ],
   "source": [
    "# This is to check conditions\n",
    "#They are 'and', 'or', 'not'\n",
    "\n",
    "age = 22\n",
    "if age >= 23 or type(age)==int:\n",
    "    print(\"Yeah Yeah\")\n",
    "    \n",
    "if not type(age)==str:\n",
    "    print(\"It is not string\")\n"
   ]
  },
  {
   "cell_type": "markdown",
   "metadata": {},
   "source": [
    "### Identity Operators"
   ]
  },
  {
   "cell_type": "code",
   "execution_count": 30,
   "metadata": {},
   "outputs": [
    {
     "data": {
      "text/plain": [
       "True"
      ]
     },
     "execution_count": 30,
     "metadata": {},
     "output_type": "execute_result"
    }
   ],
   "source": [
    "#They are is and is not\n",
    "\n",
    "a = 5\n",
    "b = 6\n",
    "\n",
    "a is not b"
   ]
  },
  {
   "cell_type": "markdown",
   "metadata": {},
   "source": [
    "### Membership Operators"
   ]
  },
  {
   "cell_type": "code",
   "execution_count": 32,
   "metadata": {},
   "outputs": [
    {
     "data": {
      "text/plain": [
       "True"
      ]
     },
     "execution_count": 32,
     "metadata": {},
     "output_type": "execute_result"
    }
   ],
   "source": [
    "#This include in and not in\n",
    "std_score = [45, 67, 89]\n",
    "new_score = 45\n",
    "new_score in std_score"
   ]
  },
  {
   "cell_type": "markdown",
   "metadata": {},
   "source": [
    "### Bitwise Operators\n",
    "***Bitwise operators are used to compare (binary) numbers:***"
   ]
  },
  {
   "cell_type": "code",
   "execution_count": 34,
   "metadata": {},
   "outputs": [
    {
     "name": "stdout",
     "output_type": "stream",
     "text": [
      "Line 1 - Value of c is  12\n",
      "Line 2 - Value of c is  61\n",
      "Line 3 - Value of c is  49\n"
     ]
    }
   ],
   "source": [
    "a = 60            # 60 = 0011 1100 \n",
    "b = 13            # 13 = 0000 1101 \n",
    "c = 0\n",
    "\n",
    "c = a & b;        # 12 = 0000 1100\n",
    "print (\"Line 1 - Value of c is \", c)\n",
    "\n",
    "d = a | b;        # 61 = 0011 1101 \n",
    "print(\"Line 2 - Value of c is \", d)\n",
    "\n",
    "e = a ^ b;        # 49 = 0011 0001\n",
    "print (\"Line 3 - Value of c is \", e)"
   ]
  },
  {
   "cell_type": "code",
   "execution_count": null,
   "metadata": {},
   "outputs": [],
   "source": []
  }
 ],
 "metadata": {
  "kernelspec": {
   "display_name": "Python 3",
   "language": "python",
   "name": "python3"
  },
  "language_info": {
   "codemirror_mode": {
    "name": "ipython",
    "version": 3
   },
   "file_extension": ".py",
   "mimetype": "text/x-python",
   "name": "python",
   "nbconvert_exporter": "python",
   "pygments_lexer": "ipython3",
   "version": "3.8.3"
  }
 },
 "nbformat": 4,
 "nbformat_minor": 4
}
