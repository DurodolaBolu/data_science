{
 "cells": [
  {
   "cell_type": "markdown",
   "metadata": {},
   "source": [
    "## Revision of Data types\n",
    "- Integer,float and complex\n",
    "- String\n",
    "- List and Tuple\n",
    "- Dictionary and Set\n",
    "- Frozenset"
   ]
  },
  {
   "cell_type": "markdown",
   "metadata": {},
   "source": [
    "### Integer, Float, String and Complex"
   ]
  },
  {
   "cell_type": "code",
   "execution_count": 18,
   "metadata": {},
   "outputs": [],
   "source": [
    "age = 45\n",
    "height = 7.98\n",
    "force = 5+4j\n",
    "name = \"Kolawole Josiah\"\n"
   ]
  },
  {
   "cell_type": "markdown",
   "metadata": {},
   "source": [
    "### List and Tuple"
   ]
  },
  {
   "cell_type": "code",
   "execution_count": 19,
   "metadata": {},
   "outputs": [
    {
     "name": "stdout",
     "output_type": "stream",
     "text": [
      "['yam', 'beans', 'millet', 'cumcumber', 'fish']\n"
     ]
    }
   ],
   "source": [
    "#List is mutable\n",
    "goods = [\"rice\",\"beans\",\"millet\",\"cumcumber\"]\n",
    "# I can do this below\n",
    "goods[0] = \"yam\"\n",
    "goods.append(\"fish\")\n",
    "\n",
    "#Note: Tuple is immutable, that is the elements cannot be modified after creation\n",
    "#It does not even provide us a way to change the size\n",
    "scores = (34, 56, 78, 78)\n",
    "#But I cannot do this\n",
    "#scores[0]=90\n",
    "\n",
    "print(goods)"
   ]
  },
  {
   "cell_type": "markdown",
   "metadata": {},
   "source": [
    "### Dictionary and Set"
   ]
  },
  {
   "cell_type": "code",
   "execution_count": 25,
   "metadata": {},
   "outputs": [
    {
     "name": "stdout",
     "output_type": "stream",
     "text": [
      "{'olawumi247', 'kolapo', 'jonathan'}\n"
     ]
    }
   ],
   "source": [
    "#A dictionary is a key-value pair\n",
    "#The key here is the matric numbers while the scores are the value\n",
    "#The key is used to reach out to the value\n",
    "matno_scores = {\"EEE/12/2345\": 67, \"EEE/12/3454\": 90}\n",
    "#print(matno_scores[\"EEE/12/2345\"])\n",
    "\n",
    "#Set helps to prevent duplicates data values, they are unordered, hence has no indexing\n",
    "#Example: a set of password\n",
    "password = {'olawumi247', 'jonathan', 'olawumi247'}\n",
    "password.add (\"kolapo\")\n",
    "\n",
    "#You can use discard/remove to remove an element\n",
    "# You can convert a list to set using my_set = set(my_list)\n",
    "\n",
    "\n",
    "print(password)"
   ]
  },
  {
   "cell_type": "markdown",
   "metadata": {},
   "source": [
    "### Frozenset"
   ]
  },
  {
   "cell_type": "code",
   "execution_count": 21,
   "metadata": {},
   "outputs": [
    {
     "name": "stdout",
     "output_type": "stream",
     "text": [
      "frozenset({'olawumi247', 'jonathan'})\n"
     ]
    }
   ],
   "source": [
    "#Frozenset is actually a set that is immutable\n",
    "admin_list = frozenset({'olawumi247', 'jonathan', 'olawumi247'})\n",
    "#You cannot do this that is below\n",
    "#admin_list.add(\"Femi\")\n",
    "print(admin_list)"
   ]
  },
  {
   "cell_type": "markdown",
   "metadata": {},
   "source": [
    "> `Take Note` : ***You can use type(var_name) to know the datatype of a variable***"
   ]
  },
  {
   "cell_type": "markdown",
   "metadata": {},
   "source": [
    "\n"
   ]
  },
  {
   "cell_type": "code",
   "execution_count": 22,
   "metadata": {},
   "outputs": [
    {
     "name": "stdout",
     "output_type": "stream",
     "text": [
      "['yam', 'beans', 'millet', 'cumcumber', 'fish']\n"
     ]
    }
   ],
   "source": [
    "print(goods)"
   ]
  },
  {
   "cell_type": "code",
   "execution_count": 14,
   "metadata": {},
   "outputs": [
    {
     "data": {
      "text/plain": [
       "list"
      ]
     },
     "execution_count": 14,
     "metadata": {},
     "output_type": "execute_result"
    }
   ],
   "source": [
    "type(goods)"
   ]
  },
  {
   "cell_type": "code",
   "execution_count": 17,
   "metadata": {},
   "outputs": [
    {
     "data": {
      "text/plain": [
       "frozenset"
      ]
     },
     "execution_count": 17,
     "metadata": {},
     "output_type": "execute_result"
    }
   ],
   "source": [
    "type(admin_list)"
   ]
  },
  {
   "cell_type": "code",
   "execution_count": null,
   "metadata": {},
   "outputs": [],
   "source": []
  }
 ],
 "metadata": {
  "kernelspec": {
   "display_name": "Python 3",
   "language": "python",
   "name": "python3"
  },
  "language_info": {
   "codemirror_mode": {
    "name": "ipython",
    "version": 3
   },
   "file_extension": ".py",
   "mimetype": "text/x-python",
   "name": "python",
   "nbconvert_exporter": "python",
   "pygments_lexer": "ipython3",
   "version": "3.8.3"
  }
 },
 "nbformat": 4,
 "nbformat_minor": 4
}
